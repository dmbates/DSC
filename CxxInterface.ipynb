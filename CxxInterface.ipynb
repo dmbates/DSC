{
 "cells": [
  {
   "cell_type": "markdown",
   "metadata": {
    "slideshow": {
     "slide_type": "slide"
    }
   },
   "source": [
    "\n",
    "# Interface to C++\n",
    "\n",
    "- With Julia having been built on llvm, Keno Fischer hooked into libclang to compile C++ expressions and to unravel C++ types and methods.\n",
    "- The resulting package, `Cxx.jl`, allows for evaluating C++ code from within Julia."
   ]
  },
  {
   "cell_type": "code",
   "execution_count": 7,
   "metadata": {
    "collapsed": false,
    "slideshow": {
     "slide_type": "fragment"
    }
   },
   "outputs": [],
   "source": [
    "using Cxx"
   ]
  },
  {
   "cell_type": "markdown",
   "metadata": {
    "slideshow": {
     "slide_type": "slide"
    }
   },
   "source": [
    "## Reading feather files using C++ in Julia\n",
    "\n",
    "- The [feather](https://github.com/wesm/feather) file format provides serialized storage of column-oriented data frames.\n",
    "- The metadata is stored in the file in a schema that uses Google's FlatBuffers.\n",
    "- Google's `flatc` can produce deserialization code in several possible languages from a schema description.\n",
    "- The `native` implementation is in `C++`.  `flatc` produces a header file that depends only on `flatbuffers.h`"
   ]
  },
  {
   "cell_type": "code",
   "execution_count": 8,
   "metadata": {
    "collapsed": false,
    "slideshow": {
     "slide_type": "slide"
    }
   },
   "outputs": [
    {
     "name": "stdout",
     "output_type": "stream",
     "text": [
      "/var/tmp/Feather\n",
      "├── appveyor.yml\n",
      "├── deps\n",
      "│   └── usr\n",
      "│       └── include\n",
      "│           ├── feather\n",
      "│           │   ├── metadata.fbs\n",
      "│           │   └── metadata_generated.h\n",
      "│           └── flatbuffers\n",
      "│               └── flatbuffers.h\n",
      "├── LICENSE.md\n",
      "├── README.md\n",
      "├── REQUIRE\n",
      "├── src\n",
      "│   ├── column.jl\n",
      "│   ├── Feather.jl\n",
      "│   └── reader.jl\n",
      "└── test\n",
      "    ├── data\n",
      "    │   ├── airquality.feather\n",
      "    │   ├── anscombe.feather\n",
      "    │   ├── attenu.feather\n",
      "    │   ├── attitude.feather\n",
      "    │   ├── beaver1.feather\n",
      "    │   ├── beaver2.feather\n",
      "    │   ├── BOD.feather\n",
      "    │   ├── cars.feather\n",
      "    │   ├── ChickWeight.feather\n",
      "    │   ├── chickwts.feather\n",
      "    │   ├── CO2.feather\n",
      "    │   ├── DNase.feather\n",
      "    │   ├── esoph.feather\n",
      "    │   ├── faithful.feather\n",
      "    │   ├── Formaldehyde.feather\n",
      "    │   ├── freeny.feather\n",
      "    │   ├── Indometh.feather\n",
      "    │   ├── infert.feather\n",
      "    │   ├── InsectSprays.feather\n",
      "    │   ├── iris.feather\n",
      "    │   ├── LifeCycleSavings.feather\n",
      "    │   ├── Loblolly.feather\n",
      "    │   ├── longley.feather\n",
      "    │   ├── morley.feather\n",
      "    │   ├── mtcars.feather\n",
      "    │   ├── npk.feather\n",
      "    │   ├── Orange.feather\n",
      "    │   ├── OrchardSprays.feather\n",
      "    │   ├── PlantGrowth.feather\n",
      "    │   ├── pressure.feather\n",
      "    │   ├── Puromycin.feather\n",
      "    │   ├── quakes.feather\n",
      "    │   ├── randu.feather\n",
      "    │   ├── rock.feather\n",
      "    │   ├── sleep.feather\n",
      "    │   ├── stackloss.feather\n",
      "    │   ├── swiss.feather\n",
      "    │   ├── Theoph.feather\n",
      "    │   ├── ToothGrowth.feather\n",
      "    │   ├── trees.feather\n",
      "    │   ├── USArrests.feather\n",
      "    │   ├── USJudgeRatings.feather\n",
      "    │   ├── warpbreaks.feather\n",
      "    │   └── women.feather\n",
      "    └── runtests.jl\n",
      "\n",
      "8 directories, 55 files\n"
     ]
    }
   ],
   "source": [
    "; tree /var/tmp/Feather"
   ]
  },
  {
   "cell_type": "code",
   "execution_count": 9,
   "metadata": {
    "collapsed": false
   },
   "outputs": [
    {
     "name": "stderr",
     "output_type": "stream",
     "text": [
      "WARNING: replacing module Feather\n",
      "WARNING: Method definition length(Cxx.CppPtr{Cxx.CxxQualType{Cxx.CppBaseType{:feather::fbs::PrimitiveArray}, (true, false, false)}, (false, false, false)}) in module Feather at /var/tmp/Feather/src/column.jl:11 overwritten in module Feather at /var/tmp/Feather/src/column.jl:11.\n",
      "WARNING: Method definition nrow(Cxx.CppPtr{Cxx.CxxQualType{Cxx.CppBaseType{:feather::fbs::CTable}, (true, false, false)}, (false, false, false)}) in module Feather at /var/tmp/Feather/src/reader.jl:10 overwritten in module Feather at /var/tmp/Feather/src/reader.jl:10.\n"
     ]
    },
    {
     "data": {
      "text/plain": [
       "Feather"
      ]
     },
     "execution_count": 9,
     "metadata": {},
     "output_type": "execute_result"
    }
   ],
   "source": [
    "include(\"/var/tmp/Feather/src/Feather.jl\")"
   ]
  },
  {
   "cell_type": "code",
   "execution_count": 10,
   "metadata": {
    "collapsed": false,
    "slideshow": {
     "slide_type": "slide"
    }
   },
   "outputs": [
    {
     "data": {
      "text/plain": [
       "[10001 × 2] @ /tmp/br.feather\n",
       " br1  : Array{Float64,1}\n",
       " br2  : Array{Float64,1}\n"
      ]
     },
     "execution_count": 10,
     "metadata": {},
     "output_type": "execute_result"
    },
    {
     "name": "stderr",
     "output_type": "stream",
     "text": [
      "WARNING: Base.writemime is deprecated.\n",
      "  likely near /home/bates/.julia/v0.5/IJulia/src/kernel.jl:31\n",
      "WARNING: Base.writemime is deprecated.\n",
      "  likely near /home/bates/.julia/v0.5/IJulia/src/kernel.jl:31\n",
      "WARNING: Base.writemime is deprecated.\n",
      "  likely near /home/bates/.julia/v0.5/IJulia/src/kernel.jl:31\n",
      "WARNING: Base.writemime is deprecated.\n",
      "  likely near /home/bates/.julia/v0.5/IJulia/src/kernel.jl:31\n",
      "WARNING: Base.writemime is deprecated.\n",
      "  likely near /home/bates/.julia/v0.5/IJulia/src/kernel.jl:31\n",
      "in display_dict at /home/bates/.julia/v0.5/IJulia/src/execute_request.jl\n"
     ]
    }
   ],
   "source": [
    "rd = Feather.Reader(\"/tmp/br.feather\")"
   ]
  },
  {
   "cell_type": "code",
   "execution_count": 5,
   "metadata": {
    "collapsed": false,
    "slideshow": {
     "slide_type": "slide"
    }
   },
   "outputs": [
    {
     "name": "stderr",
     "output_type": "stream",
     "text": [
      "WARNING: Base.writemime is deprecated.\n",
      "  likely near /home/bates/.julia/v0.5/IJulia/src/kernel.jl:31\n",
      "WARNING: Base.writemime is deprecated.\n",
      "  likely near /home/bates/.julia/v0.5/IJulia/src/kernel.jl:31\n",
      "WARNING: Base.writemime is deprecated.\n",
      "  likely near /home/bates/.julia/v0.5/IJulia/src/kernel.jl:31\n",
      "WARNING: Base.writemime is deprecated.\n",
      "  likely near /home/bates/.julia/v0.5/IJulia/src/kernel.jl:31\n",
      "WARNING: Base.writemime is deprecated.\n",
      "  likely near /home/bates/.julia/v0.5/IJulia/src/kernel.jl:31\n",
      "in display_dict at /home/bates/.julia/v0.5/IJulia/src/execute_request.jl\n"
     ]
    },
    {
     "data": {
      "text/html": [
       "<table class=\"data-frame\"><tr><th></th><th>br1</th><th>br2</th></tr><tr><th>1</th><td>0.0</td><td>0.0</td></tr><tr><th>2</th><td>-0.7738342877376405</td><td>-0.006074935672474525</td></tr><tr><th>3</th><td>-0.5375807147247686</td><td>-0.2811773659446651</td></tr><tr><th>4</th><td>0.0702390093222015</td><td>0.989619761949976</td></tr><tr><th>5</th><td>0.9139219957343697</td><td>0.27246147956367606</td></tr><tr><th>6</th><td>0.7832533923397063</td><td>0.9439573263975158</td></tr><tr><th>7</th><td>1.847160721316817</td><td>0.7960476452392949</td></tr><tr><th>8</th><td>0.44813219966871465</td><td>1.4786680546016089</td></tr><tr><th>9</th><td>-2.3587306546636904</td><td>0.10640892780049693</td></tr><tr><th>10</th><td>-3.037558666825776</td><td>-0.3222091562244578</td></tr><tr><th>11</th><td>-0.6471723855506757</td><td>-0.024636624385939665</td></tr><tr><th>12</th><td>-0.32444595249862396</td><td>0.8873296892388165</td></tr><tr><th>13</th><td>-1.0873905443747787</td><td>0.7648155173308739</td></tr><tr><th>14</th><td>-0.0925980864192062</td><td>1.635592431622665</td></tr><tr><th>15</th><td>0.2703251262739329</td><td>1.1037976321337677</td></tr><tr><th>16</th><td>0.02677110533744914</td><td>0.601902192913523</td></tr><tr><th>17</th><td>-1.469981814441981</td><td>1.8158224360221444</td></tr><tr><th>18</th><td>-2.1443282319446366</td><td>0.9579448078686522</td></tr><tr><th>19</th><td>-3.3442901762083945</td><td>1.1056691855138396</td></tr><tr><th>20</th><td>-2.112758107098352</td><td>1.3033997960042778</td></tr><tr><th>21</th><td>-3.0720209836666346</td><td>0.9112888184624586</td></tr><tr><th>22</th><td>-2.243848467774143</td><td>1.4882119433677499</td></tr><tr><th>23</th><td>-1.2762589120743937</td><td>1.9907424359339143</td></tr><tr><th>24</th><td>-2.1050546613079097</td><td>2.864031835346604</td></tr><tr><th>25</th><td>-1.909854652806205</td><td>4.591759125483203</td></tr><tr><th>26</th><td>-2.2415744205244166</td><td>4.498320804988312</td></tr><tr><th>27</th><td>-2.7128879231270933</td><td>4.342676120541264</td></tr><tr><th>28</th><td>-2.5015682892126767</td><td>4.245411046981287</td></tr><tr><th>29</th><td>-2.7375408658573424</td><td>3.4719289380498886</td></tr><tr><th>30</th><td>-1.6668900317888902</td><td>3.2634327447075155</td></tr><tr><th>&vellip;</th><td>&vellip;</td><td>&vellip;</td></tr></table>"
      ],
      "text/plain": [
       "10001×2 DataFrames.DataFrame\n",
       "│ Row   │ br1       │ br2         │\n",
       "├───────┼───────────┼─────────────┤\n",
       "│ 1     │ 0.0       │ 0.0         │\n",
       "│ 2     │ -0.773834 │ -0.00607494 │\n",
       "│ 3     │ -0.537581 │ -0.281177   │\n",
       "│ 4     │ 0.070239  │ 0.98962     │\n",
       "│ 5     │ 0.913922  │ 0.272461    │\n",
       "│ 6     │ 0.783253  │ 0.943957    │\n",
       "│ 7     │ 1.84716   │ 0.796048    │\n",
       "│ 8     │ 0.448132  │ 1.47867     │\n",
       "│ 9     │ -2.35873  │ 0.106409    │\n",
       "│ 10    │ -3.03756  │ -0.322209   │\n",
       "│ 11    │ -0.647172 │ -0.0246366  │\n",
       "⋮\n",
       "│ 9990  │ -67.9439  │ -36.2624    │\n",
       "│ 9991  │ -66.722   │ -35.7926    │\n",
       "│ 9992  │ -67.9577  │ -35.6262    │\n",
       "│ 9993  │ -68.532   │ -34.8923    │\n",
       "│ 9994  │ -68.0367  │ -34.4751    │\n",
       "│ 9995  │ -69.1096  │ -34.3929    │\n",
       "│ 9996  │ -69.3693  │ -34.6776    │\n",
       "│ 9997  │ -69.9538  │ -36.628     │\n",
       "│ 9998  │ -69.3803  │ -37.2201    │\n",
       "│ 9999  │ -69.3827  │ -36.4228    │\n",
       "│ 10000 │ -69.5283  │ -35.0779    │\n",
       "│ 10001 │ -68.7878  │ -35.4103    │"
      ]
     },
     "execution_count": 5,
     "metadata": {},
     "output_type": "execute_result"
    }
   ],
   "source": [
    "using DataFrames\n",
    "df = DataFrame(rd)"
   ]
  },
  {
   "cell_type": "markdown",
   "metadata": {
    "slideshow": {
     "slide_type": "slide"
    }
   },
   "source": [
    "```jl\n",
    "module Feather\n",
    "\n",
    "using Cxx, DataArrays, DataFrames\n",
    "import DataFrames: DataFrame, names, ncol, nrow\n",
    "\n",
    "using Cxx: CppPtr, CxxQualType, CppBaseType\n",
    "\n",
    "addHeaderDir(joinpath(dirname(@__FILE__), \"..\", \"deps\", \"usr\", \"include\"))\n",
    "cxxinclude(  joinpath(dirname(@__FILE__), \"..\", \"deps\", \"usr\", \"include\", \"feather\", \"metadata_generated.h\"))\n",
    "\n",
    "typealias CTablePt CppPtr{CxxQualType{CppBaseType{Symbol(\"feather::fbs::CTable\")},(true,false,false)},(false,false,false)}\n",
    "typealias ColumnPt CppPtr{CxxQualType{CppBaseType{Symbol(\"feather::fbs::Column\")},(true,false,false)},(false,false,false)}\n",
    "typealias PrimitivePt CppPtr{CxxQualType{CppBaseType{Symbol(\"feather::fbs::PrimitiveArray\")},(true,false,false)},(false,false,false)}\n",
    "typealias CategoryMetadataPt CppPtr{CxxQualType{CppBaseType{Symbol(\"feather::fbs::CategoryMetadata\")},(true,false,false)},(false,false,false)}\n",
    "\n",
    "export\n",
    "    DataFrame,\n",
    "    names,\n",
    "    ncol,\n",
    "    nrow\n",
    "\n",
    "const magic = \"FEA1\"\n",
    "\n",
    "include(\"column.jl\")\n",
    "include(\"reader.jl\")\n",
    "\n",
    "end\n",
    "```"
   ]
  },
  {
   "cell_type": "code",
   "execution_count": 11,
   "metadata": {
    "collapsed": false,
    "slideshow": {
     "slide_type": "slide"
    }
   },
   "outputs": [
    {
     "name": "stdout",
     "output_type": "stream",
     "text": [
      "type Reader\n",
      "    path::AbstractString\n",
      "    tpt::CTablePt\n",
      "    buf::IO\n",
      "    columns::Vector{Column}\n",
      "end\n",
      "\n",
      "columns(ct::CTablePt) = icxx\"$ct->columns();\"\n",
      "description(ct::CTablePt) = unsafe_wrap(String, icxx\"$ct->description();\")\n",
      "DataFrames.nrow(ct::CTablePt) = icxx\"$ct->num_rows();\"\n",
      "version(ct::CTablePt) = icxx\"$ct->version();\"\n",
      "\n",
      "\n",
      "function Reader(path::AbstractString)\n",
      "    io = IOBuffer(Mmap.mmap(path))\n",
      "    bpt = pointer(io.data)\n",
      "    pos = position(skip(seekend(io), -8)) # last 8 bytes are [..., UInt32(metadata size), magic]\n",
      "    pos -= read(io, Int32)                # start of the metadata\n",
      "                                          # file should begin and end with \"FEA1\"\n",
      "    if io.data[1:4] ≠ magic.data || read(io) ≠ magic.data\n",
      "        throw(ArgumentError(string(\"File: \", path, \" is not in feather format\")))\n",
      "    end\n",
      "    tpt = icxx\"feather::fbs::GetCTable($(pointer(io.data) + pos));\"\n",
      "    cpt = columns(tpt)\n",
      "    cols = [Column(cpt, i, bpt) for i in 1:icxx\"$cpt->size();\"]\n",
      "    Reader(path, tpt, io, cols)\n",
      "end\n",
      "\n",
      "DataFrames.nrow(rdr::Reader) = icxx\"$(rdr.tpt)->num_rows();\"\n",
      "DataFrames.ncol(rdr::Reader) = length(rdr.columns)\n",
      "DataFrames.names(rdr::Reader) = map(name, rdr.columns)\n",
      "\n",
      "Base.size(rdr::Reader) = (nrow(rdr), ncol(rdr))\n",
      "Base.size(rdr::Reader, i::Integer) = i == 1 ? nrow(rdr) : i == 2 ? ncol(rdr) : 1\n",
      "Base.getindex(rdr::Reader, i::Integer) = rdr.columns[i]\n",
      "function Base.getindex(rdr::Reader, s::String)\n",
      "    i = findfirst(names(rdr), s)\n",
      "    if i < 1\n",
      "        throw(BoundsError(s))\n",
      "    end\n",
      "    rdr[i].values\n",
      "end\n",
      "Base.getindex(rdr::Reader, s::Symbol) = rdr[string(s)]\n",
      "\n",
      "function Base.show(io::IO, r::Reader)\n",
      "    println(io, string('[', nrow(r), \" × \", ncol(r), \"] @ \", r.path))\n",
      "    nms = names(r)\n",
      "    mxnm = maximum(map(length, nms)) + 2\n",
      "    for coli in r.columns\n",
      "        println(io, \" \", rpad(coli.name, mxnm), \": \", typeof(coli.values))\n",
      "    end\n",
      "end\n",
      "\n",
      "function DataFrames.DataFrame(rdr::Reader)\n",
      "    DataFrame(convert(Vector{Any}, [c.values for c in rdr.columns]), map(Symbol, names(rdr)))\n",
      "end\n"
     ]
    }
   ],
   "source": [
    "@less Feather.Reader(\"Foo\")"
   ]
  }
 ],
 "metadata": {
  "celltoolbar": "Slideshow",
  "kernelspec": {
   "display_name": "Julia 0.5.0-dev",
   "language": "julia",
   "name": "julia-0.5"
  },
  "language_info": {
   "file_extension": ".jl",
   "mimetype": "application/julia",
   "name": "julia",
   "version": "0.5.0"
  }
 },
 "nbformat": 4,
 "nbformat_minor": 0
}
